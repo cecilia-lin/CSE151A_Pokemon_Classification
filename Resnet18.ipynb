{
 "cells": [
  {
   "metadata": {
    "ExecuteTime": {
     "end_time": "2024-11-17T05:38:33.278434Z",
     "start_time": "2024-11-17T05:38:30.500239Z"
    }
   },
   "cell_type": "code",
   "source": [
    "# Copy from kaggle\n",
    "import kagglehub\n",
    "\n",
    "# Download latest version\n",
    "org_path = kagglehub.dataset_download(\"lantian773030/pokemonclassification\")\n",
    "\n",
    "print(\"Path to dataset files:\", org_path)\n"
   ],
   "outputs": [
    {
     "name": "stdout",
     "output_type": "stream",
     "text": [
      "Warning: Looks like you're using an outdated `kagglehub` version, please consider updating (latest version: 0.3.4)\n",
      "Path to dataset files: C:\\Users\\CindyHong\\.cache\\kagglehub\\datasets\\lantian773030\\pokemonclassification\\versions\\1\n"
     ]
    }
   ],
   "execution_count": 1
  },
  {
   "metadata": {
    "ExecuteTime": {
     "end_time": "2024-11-17T05:38:48.939942Z",
     "start_time": "2024-11-17T05:38:33.278957Z"
    }
   },
   "cell_type": "code",
   "source": [
    "import pandas as pd\n",
    "import os\n",
    "import matplotlib.pyplot as plt\n",
    "from PIL import Image\n",
    "import numpy as np\n",
    "from sklearn.model_selection import train_test_split\n",
    "from PIL import ImageOps,ImageEnhance\n",
    "import seaborn as sns\n",
    "\n",
    "from sklearn.linear_model import LogisticRegression\n",
    "from sklearn.metrics import classification_report\n",
    "from sklearn.metrics import confusion_matrix\n",
    "from sklearn.naive_bayes import GaussianNB\n",
    "from sklearn.svm import SVC\n",
    "from sklearn.neighbors import KNeighborsClassifier\n",
    "\n",
    "import torch\n",
    "import torch.nn.functional as F\n",
    "import torch.nn as nn\n",
    "from torchsummary import summary\n",
    "import torchvision.transforms as transforms\n",
    "from torch import optim\n",
    "from torch.utils.data import DataLoader, TensorDataset, Dataset\n",
    "from sklearn.metrics import confusion_matrix\n",
    "from torch.utils.data import random_split\n",
    "import scipy\n",
    "\n",
    "from torchvision import models\n",
    "from sklearn.utils.class_weight import compute_class_weight\n",
    "\n"
   ],
   "outputs": [],
   "execution_count": 2
  },
  {
   "metadata": {
    "ExecuteTime": {
     "end_time": "2024-11-17T05:38:48.949914Z",
     "start_time": "2024-11-17T05:38:48.942662Z"
    }
   },
   "cell_type": "code",
   "source": "np.random.seed(2024)",
   "outputs": [],
   "execution_count": 3
  },
  {
   "metadata": {
    "ExecuteTime": {
     "end_time": "2024-11-17T05:38:48.969777Z",
     "start_time": "2024-11-17T05:38:48.953371Z"
    }
   },
   "cell_type": "code",
   "source": [
    "# Setting dataset path\n",
    "path = os.path.join(org_path,'PokemonData')\n",
    "path"
   ],
   "outputs": [
    {
     "data": {
      "text/plain": [
       "'C:\\\\Users\\\\CindyHong\\\\.cache\\\\kagglehub\\\\datasets\\\\lantian773030\\\\pokemonclassification\\\\versions\\\\1\\\\PokemonData'"
      ]
     },
     "execution_count": 4,
     "metadata": {},
     "output_type": "execute_result"
    }
   ],
   "execution_count": 4
  },
  {
   "metadata": {
    "ExecuteTime": {
     "end_time": "2024-11-17T05:38:49.036919Z",
     "start_time": "2024-11-17T05:38:48.972583Z"
    }
   },
   "cell_type": "code",
   "source": "class_list = pd.read_csv('class_sheet.csv')",
   "outputs": [],
   "execution_count": 5
  },
  {
   "metadata": {
    "ExecuteTime": {
     "end_time": "2024-11-17T05:38:49.047151Z",
     "start_time": "2024-11-17T05:38:49.038760Z"
    }
   },
   "cell_type": "code",
   "source": [
    "bad_class_list = class_list[class_list['Bad_Data'] == 1]['Pokemon']\n",
    "bad_image_paths = []\n",
    "valid_extensions = ['.jpg', '.jpeg', '.png']"
   ],
   "outputs": [],
   "execution_count": 6
  },
  {
   "metadata": {
    "ExecuteTime": {
     "end_time": "2024-11-17T05:38:49.056174Z",
     "start_time": "2024-11-17T05:38:49.050042Z"
    }
   },
   "cell_type": "code",
   "source": [
    "# Removing all classes with bad data\n",
    "class_list = class_list[class_list['Bad_Data'] != 1]"
   ],
   "outputs": [],
   "execution_count": 7
  },
  {
   "metadata": {
    "ExecuteTime": {
     "end_time": "2024-11-17T05:38:49.067757Z",
     "start_time": "2024-11-17T05:38:49.059196Z"
    }
   },
   "cell_type": "code",
   "source": [
    "# Getting Pokemons that are winged and not winged\n",
    "winged = class_list[class_list['Winged'] == 1]\n",
    "winged = winged['Pokemon']\n",
    "not_winged = class_list[class_list['Not_Winged'] == 1]\n",
    "not_winged = not_winged['Pokemon']"
   ],
   "outputs": [],
   "execution_count": 8
  },
  {
   "metadata": {
    "ExecuteTime": {
     "end_time": "2024-11-17T05:48:09.988896Z",
     "start_time": "2024-11-17T05:48:09.550161Z"
    }
   },
   "cell_type": "code",
   "source": [
    "# Making a data frame that has the image arrays and their classifcation\n",
    "image_paths = []\n",
    "wrong_extensions = []\n",
    "\n",
    "for folder in winged:\n",
    "    image_names = os.listdir(os.path.join(path,folder))\n",
    "    for image in image_names:\n",
    "        file_extension = os.path.splitext(image)[1]\n",
    "        # Sanity check to make sure all file paths exist\n",
    "        if file_extension not in valid_extensions:\n",
    "            wrong_extensions.append(file_extension)\n",
    "            continue\n",
    "        image_path = os.path.join(path,folder,image)\n",
    "        if not os.path.exists(image_path):\n",
    "            print(image_path)\n",
    "            continue\n",
    "        image_paths.append({'File_Path': image_path, 'Source': 'Winged'})\n",
    "           \n",
    "for folder in not_winged:\n",
    "    image_names = os.listdir(os.path.join(path,folder))\n",
    "    for image in image_names:\n",
    "        file_extension = os.path.splitext(image)[1]\n",
    "        # Sanity check to make sure all file paths exist\n",
    "        if file_extension not in valid_extensions:\n",
    "            wrong_extensions.append(file_extension)\n",
    "            continue\n",
    "        image_path = os.path.join(path,folder,image)\n",
    "        if not os.path.exists(image_path):\n",
    "            print(image_path)\n",
    "            continue\n",
    "        image_paths.append({'File_Path': image_path, 'Source': 'Not Winged'})\n",
    "            \n",
    "df = pd.DataFrame(image_paths)\n",
    "set(wrong_extensions)"
   ],
   "outputs": [
    {
     "data": {
      "text/plain": [
       "{'.asp',\n",
       " \".jpg')\",\n",
       " '.jpg~c200',\n",
       " '.sb-334870d9-FK2TVI',\n",
       " '.sb-334870d9-nlD60H',\n",
       " '.svg'}"
      ]
     },
     "execution_count": 49,
     "metadata": {},
     "output_type": "execute_result"
    }
   ],
   "execution_count": 49
  },
  {
   "cell_type": "code",
   "metadata": {
    "ExecuteTime": {
     "end_time": "2024-11-17T05:48:10.915322Z",
     "start_time": "2024-11-17T05:48:10.906767Z"
    }
   },
   "source": [
    "df['y'] = (df['Source'] == 'Winged').astype(int)"
   ],
   "outputs": [],
   "execution_count": 50
  },
  {
   "cell_type": "code",
   "metadata": {
    "ExecuteTime": {
     "end_time": "2024-11-17T05:48:12.021967Z",
     "start_time": "2024-11-17T05:48:11.997105Z"
    }
   },
   "source": [
    "# Making a 80/10/10 Train/Valid/Test sets\n",
    "train_df, temp_df = train_test_split(df, test_size=0.2, stratify=df['y'], random_state=42)\n",
    "val_df, test_df = train_test_split(temp_df, test_size=0.5, stratify=temp_df['y'], random_state=42)"
   ],
   "outputs": [],
   "execution_count": 51
  },
  {
   "cell_type": "code",
   "metadata": {
    "ExecuteTime": {
     "end_time": "2024-11-17T05:48:13.581062Z",
     "start_time": "2024-11-17T05:48:13.573368Z"
    }
   },
   "source": [
    "#train_df.to_csv('train.csv')\n",
    "#val_df.to_csv('validate.csv')\n",
    "#test_df.to_csv('test.csv')"
   ],
   "outputs": [],
   "execution_count": 52
  },
  {
   "cell_type": "code",
   "metadata": {
    "ExecuteTime": {
     "end_time": "2024-11-17T05:55:32.248675Z",
     "start_time": "2024-11-17T05:55:32.235918Z"
    }
   },
   "source": [
    "class ImageDataset(Dataset):\n",
    "    def __init__(self, dataframe):\n",
    "        self.data = dataframe\n",
    "        self.transform = transform = transforms.Compose([\n",
    "                            transforms.Resize((224, 224)),\n",
    "                            transforms.ToTensor(),\n",
    "                            transforms.Normalize(mean=[0.485, 0.456, 0.406], \n",
    "                            std=[0.229, 0.224, 0.225])])\n",
    "\n",
    "    def __len__(self):\n",
    "        return len(self.data)\n",
    "\n",
    "    def __getitem__(self, idx):\n",
    "        img_path = self.data.iloc[idx]['File_Path']\n",
    "        label = self.data.iloc[idx]['y']\n",
    "        image = Image.open(img_path).convert(\"RGB\")\n",
    "        image = self.transform(image)\n",
    "        \n",
    "        return image, label"
   ],
   "outputs": [],
   "execution_count": 67
  },
  {
   "cell_type": "code",
   "metadata": {
    "ExecuteTime": {
     "end_time": "2024-11-17T05:55:32.886125Z",
     "start_time": "2024-11-17T05:55:32.873944Z"
    }
   },
   "source": [
    "train_dataset = ImageDataset(dataframe=train_df)\n",
    "train_loader = DataLoader(dataset=train_dataset, batch_size=32, shuffle=True)"
   ],
   "outputs": [],
   "execution_count": 68
  },
  {
   "cell_type": "code",
   "metadata": {
    "ExecuteTime": {
     "end_time": "2024-11-17T05:55:33.368493Z",
     "start_time": "2024-11-17T05:55:33.361154Z"
    }
   },
   "source": [
    "val_dataset = ImageDataset(dataframe=val_df)\n",
    "val_loader = DataLoader(dataset=val_dataset, batch_size=32, shuffle=True)"
   ],
   "outputs": [],
   "execution_count": 69
  },
  {
   "cell_type": "code",
   "metadata": {
    "ExecuteTime": {
     "end_time": "2024-11-17T05:55:33.750808Z",
     "start_time": "2024-11-17T05:55:33.736626Z"
    }
   },
   "source": [
    "test_dataset = ImageDataset(dataframe=test_df)\n",
    "test_loader = DataLoader(dataset=test_dataset, batch_size=32, shuffle=False)"
   ],
   "outputs": [],
   "execution_count": 70
  },
  {
   "metadata": {
    "ExecuteTime": {
     "end_time": "2024-11-17T05:57:33.656252Z",
     "start_time": "2024-11-17T05:57:33.647436Z"
    }
   },
   "cell_type": "code",
   "source": [
    "# device='cpu'\n",
    "device = torch.device(\"cuda\" if torch.cuda.is_available() else \"cpu\")"
   ],
   "outputs": [],
   "execution_count": 76
  },
  {
   "metadata": {
    "ExecuteTime": {
     "end_time": "2024-11-17T05:57:34.450553Z",
     "start_time": "2024-11-17T05:57:34.035642Z"
    }
   },
   "cell_type": "code",
   "source": [
    "model = models.resnet18(pretrained=True)\n",
    "model.fc = nn.Linear(model.fc.in_features, 2)  # Binary classification (0 and 1)\n",
    "model = model.to(device)"
   ],
   "outputs": [
    {
     "name": "stderr",
     "output_type": "stream",
     "text": [
      "C:\\Users\\CindyHong\\AppData\\Roaming\\Python\\Python312\\site-packages\\torchvision\\models\\_utils.py:208: UserWarning: The parameter 'pretrained' is deprecated since 0.13 and may be removed in the future, please use 'weights' instead.\n",
      "  warnings.warn(\n",
      "C:\\Users\\CindyHong\\AppData\\Roaming\\Python\\Python312\\site-packages\\torchvision\\models\\_utils.py:223: UserWarning: Arguments other than a weight enum or `None` for 'weights' are deprecated since 0.13 and may be removed in the future. The current behavior is equivalent to passing `weights=ResNet18_Weights.IMAGENET1K_V1`. You can also use `weights=ResNet18_Weights.DEFAULT` to get the most up-to-date weights.\n",
      "  warnings.warn(msg)\n"
     ]
    }
   ],
   "execution_count": 77
  },
  {
   "metadata": {
    "ExecuteTime": {
     "end_time": "2024-11-17T05:57:34.467589Z",
     "start_time": "2024-11-17T05:57:34.450553Z"
    }
   },
   "cell_type": "code",
   "source": [
    "labels = train_df['y'].values\n",
    "class_weights = compute_class_weight(class_weight='balanced', classes=np.unique(labels), y=labels)\n",
    "class_weights_tensor = torch.FloatTensor(class_weights).to(device)"
   ],
   "outputs": [],
   "execution_count": 78
  },
  {
   "metadata": {
    "ExecuteTime": {
     "end_time": "2024-11-17T05:57:34.601508Z",
     "start_time": "2024-11-17T05:57:34.594256Z"
    }
   },
   "cell_type": "code",
   "source": [
    "criterion = nn.CrossEntropyLoss(weight=class_weights_tensor.to(device))\n",
    "optimizer = optim.Adam(model.parameters(), lr=0.001, weight_decay=1e-4)"
   ],
   "outputs": [],
   "execution_count": 79
  },
  {
   "cell_type": "code",
   "metadata": {
    "ExecuteTime": {
     "end_time": "2024-11-17T05:57:35.142334Z",
     "start_time": "2024-11-17T05:57:35.131689Z"
    }
   },
   "source": [
    "def calculate_accuracy(loader, model, device):\n",
    "    model.eval() \n",
    "    correct = 0\n",
    "    total = 0\n",
    "    with torch.no_grad():\n",
    "        for images, labels in loader:\n",
    "            images, labels = images.to(device), labels.to(device)\n",
    "            outputs = model(images)\n",
    "            _, predicted = torch.max(outputs, 1)\n",
    "            total += labels.size(0)\n",
    "            correct += (predicted == labels).sum().item()\n",
    "    return 100 * correct / total"
   ],
   "outputs": [],
   "execution_count": 80
  },
  {
   "cell_type": "code",
   "metadata": {
    "ExecuteTime": {
     "end_time": "2024-11-17T07:46:11.433543Z",
     "start_time": "2024-11-17T05:59:49.092166Z"
    }
   },
   "source": [
    "num_epochs = 25\n",
    "best_val_accuracy = 0\n",
    "for epoch in range(num_epochs):\n",
    "    model.train() \n",
    "    running_loss = 0.0\n",
    "    for images, labels in train_loader:\n",
    "        images, labels = images.to(device), labels.to(device).long()        \n",
    "        optimizer.zero_grad()        \n",
    "        outputs = model(images)\n",
    "        loss = criterion(outputs, labels)        \n",
    "        loss.backward()\n",
    "        optimizer.step()        \n",
    "        running_loss += loss.item()\n",
    "    \n",
    "    train_accuracy = calculate_accuracy(train_loader, model, device)\n",
    "    val_accuracy = calculate_accuracy(val_loader, model, device)\n",
    "    \n",
    "    print(f\"Epoch [{epoch + 1}/{num_epochs}], \"\n",
    "          f\"Loss: {running_loss / len(train_loader):.4f}, \"\n",
    "          f\"Train Accuracy: {train_accuracy:.2f}%, \"\n",
    "          f\"Test Accuracy: {val_accuracy:.2f}%\")\n",
    "    \n",
    "    if val_accuracy > best_val_accuracy:\n",
    "        best_val_accuracy = val_accuracy\n",
    "        torch.save(model.state_dict(), 'best_model9.pth')"
   ],
   "outputs": [
    {
     "name": "stdout",
     "output_type": "stream",
     "text": [
      "Epoch [1/25], Loss: 0.3021, Train Accuracy: 93.39%, Test Accuracy: 91.20%\n",
      "Epoch [2/25], Loss: 0.2355, Train Accuracy: 84.65%, Test Accuracy: 81.56%\n",
      "Epoch [3/25], Loss: 0.2180, Train Accuracy: 96.74%, Test Accuracy: 94.68%\n",
      "Epoch [4/25], Loss: 0.1483, Train Accuracy: 94.10%, Test Accuracy: 91.53%\n",
      "Epoch [5/25], Loss: 0.1325, Train Accuracy: 98.96%, Test Accuracy: 96.51%\n",
      "Epoch [6/25], Loss: 0.0948, Train Accuracy: 93.04%, Test Accuracy: 91.36%\n",
      "Epoch [7/25], Loss: 0.1822, Train Accuracy: 91.50%, Test Accuracy: 88.87%\n",
      "Epoch [8/25], Loss: 0.0636, Train Accuracy: 99.34%, Test Accuracy: 97.18%\n",
      "Epoch [9/25], Loss: 0.0951, Train Accuracy: 97.90%, Test Accuracy: 94.85%\n",
      "Epoch [10/25], Loss: 0.0613, Train Accuracy: 98.05%, Test Accuracy: 92.86%\n",
      "Epoch [11/25], Loss: 0.0692, Train Accuracy: 97.38%, Test Accuracy: 94.02%\n",
      "Epoch [12/25], Loss: 0.0685, Train Accuracy: 92.08%, Test Accuracy: 89.70%\n",
      "Epoch [13/25], Loss: 0.0826, Train Accuracy: 85.25%, Test Accuracy: 80.73%\n",
      "Epoch [14/25], Loss: 0.0460, Train Accuracy: 98.50%, Test Accuracy: 95.18%\n",
      "Epoch [15/25], Loss: 0.0536, Train Accuracy: 98.40%, Test Accuracy: 94.35%\n",
      "Epoch [16/25], Loss: 0.0487, Train Accuracy: 97.61%, Test Accuracy: 92.86%\n",
      "Epoch [17/25], Loss: 0.0814, Train Accuracy: 98.98%, Test Accuracy: 94.52%\n",
      "Epoch [18/25], Loss: 0.0493, Train Accuracy: 99.73%, Test Accuracy: 97.18%\n",
      "Epoch [19/25], Loss: 0.0335, Train Accuracy: 99.75%, Test Accuracy: 96.51%\n",
      "Epoch [20/25], Loss: 0.0292, Train Accuracy: 99.94%, Test Accuracy: 97.51%\n",
      "Epoch [21/25], Loss: 0.0149, Train Accuracy: 99.94%, Test Accuracy: 97.01%\n",
      "Epoch [22/25], Loss: 0.0318, Train Accuracy: 99.34%, Test Accuracy: 95.51%\n",
      "Epoch [23/25], Loss: 0.0847, Train Accuracy: 96.45%, Test Accuracy: 93.52%\n",
      "Epoch [24/25], Loss: 0.0525, Train Accuracy: 97.47%, Test Accuracy: 93.85%\n",
      "Epoch [25/25], Loss: 0.0311, Train Accuracy: 98.32%, Test Accuracy: 94.85%\n"
     ]
    }
   ],
   "execution_count": 82
  },
  {
   "cell_type": "code",
   "metadata": {
    "ExecuteTime": {
     "end_time": "2024-11-17T07:48:01.312834Z",
     "start_time": "2024-11-17T07:46:25.618753Z"
    }
   },
   "source": [
    "model.load_state_dict (torch.load('best_model9.pth'))\n",
    "print(calculate_accuracy(train_loader, model, device))\n",
    "print(calculate_accuracy(val_loader, model, device))\n",
    "print(calculate_accuracy(test_loader, model, device))"
   ],
   "outputs": [
    {
     "name": "stderr",
     "output_type": "stream",
     "text": [
      "C:\\Users\\CindyHong\\AppData\\Local\\Temp\\ipykernel_16540\\594932186.py:1: FutureWarning: You are using `torch.load` with `weights_only=False` (the current default value), which uses the default pickle module implicitly. It is possible to construct malicious pickle data which will execute arbitrary code during unpickling (See https://github.com/pytorch/pytorch/blob/main/SECURITY.md#untrusted-models for more details). In a future release, the default value for `weights_only` will be flipped to `True`. This limits the functions that could be executed during unpickling. Arbitrary objects will no longer be allowed to be loaded via this mode unless they are explicitly allowlisted by the user via `torch.serialization.add_safe_globals`. We recommend you start setting `weights_only=True` for any use case where you don't have full control of the loaded file. Please open an issue on GitHub for any issues related to this experimental feature.\n",
      "  model.load_state_dict (torch.load('best_model9.pth'))\n"
     ]
    },
    {
     "name": "stdout",
     "output_type": "stream",
     "text": [
      "99.93766881362976\n",
      "97.50830564784053\n",
      "95.51495016611295\n"
     ]
    }
   ],
   "execution_count": 84
  },
  {
   "metadata": {
    "ExecuteTime": {
     "end_time": "2024-11-17T08:13:34.781399Z",
     "start_time": "2024-11-17T08:13:34.769210Z"
    }
   },
   "cell_type": "code",
   "source": [
    "def calculate_accuracy(loader, model, device):\n",
    "    model.eval() \n",
    "    correct = 0\n",
    "    total = 0\n",
    "    with torch.no_grad():\n",
    "        for images, labels in loader:\n",
    "            images, labels = images.to(device), labels.to(device)\n",
    "            outputs = model(images)\n",
    "            _, predicted = torch.max(outputs, 1)\n",
    "            total += labels.size(0)\n",
    "            correct += (predicted == labels).sum().item()\n",
    "    return 100 * correct / total\n",
    "\n",
    "def get_losses(losses,loader, model, device):\n",
    "    loss = 0.0\n",
    "    model.eval() \n",
    "    with torch.no_grad():\n",
    "        for i, (inputs, targets) in enumerate(loader):\n",
    "            inputs, targets = inputs.to(device), targets.to(device)\n",
    "            outputs = model(inputs)\n",
    "            l = criterion(outputs, targets)\n",
    "            loss += l.item()\n",
    "    loss /= len(loader)\n",
    "    losses.append(loss)\n",
    "    return losses\n",
    "\n",
    "def get_predictions(loader, model, device):\n",
    "    all_targets = []\n",
    "    all_predictions = []\n",
    "    model.eval() \n",
    "    # for epoch in range(epoches):\n",
    "    with torch.no_grad():\n",
    "        for i, (inputs, targets) in enumerate(loader):\n",
    "            inputs, targets = inputs.to(device), targets.to(device)\n",
    "            outputs = model(inputs)\n",
    "            _, predicted = torch.max(outputs, 1)\n",
    "            all_targets.extend(targets.cpu().numpy())\n",
    "            all_predictions.extend(predicted.cpu().numpy())\n",
    "    return all_targets,all_predictions\n",
    "\n",
    "# Plot loss curve and confusion matrix for NNs\n",
    "def loss_curve(epoches,train_losses,val_losses):\n",
    "    # loss curve\n",
    "    plt.figure(figsize=(10, 5))\n",
    "    plt.plot(range(1, epoches + 1), train_losses, label='Train Loss')\n",
    "    plt.plot(range(1, epoches + 1), val_losses, label='Val Loss')\n",
    "    plt.xlabel('Epoch')\n",
    "    plt.ylabel('Loss')\n",
    "    plt.title('Training and Testing Loss Curve')\n",
    "    plt.legend()\n",
    "    plt.show()\n",
    "\n",
    "def plot_confusion_matrix(all_train_targets,all_train_predictions,all_val_targets,all_val_predictions,all_test_targets,all_test_predictions):\n",
    "\n",
    "    plt.figure(figsize=(18, 5))\n",
    "    plt.subplot(1, 3, 1)\n",
    "    # calculate confusion matrix\n",
    "    cm = confusion_matrix(all_train_targets, all_train_predictions)\n",
    "    # plot confusion matrix\n",
    "    sns.heatmap(cm, annot=True, fmt='d', cmap='Blues')\n",
    "    plt.xlabel('Predicted Label')\n",
    "    plt.ylabel('True Label')\n",
    "    plt.title('Confusion Matrix - Train')\n",
    "    \n",
    "    plt.subplot(1, 3, 2)\n",
    "    # calculate confusion matrix\n",
    "    cm = confusion_matrix(all_val_targets, all_val_predictions)\n",
    "    # plot confusion matrix\n",
    "    sns.heatmap(cm, annot=True, fmt='d', cmap='Blues')\n",
    "    plt.xlabel('Predicted Label')\n",
    "    plt.ylabel('True Label')\n",
    "    plt.title('Confusion Matrix - Val')\n",
    "    \n",
    "    \n",
    "    plt.subplot(1, 3, 3)\n",
    "    # calculate confusion matrix\n",
    "    cm = confusion_matrix(all_test_targets, all_test_predictions)\n",
    "    # plot confusion matrix\n",
    "    sns.heatmap(cm, annot=True, fmt='d', cmap='Blues')\n",
    "    plt.xlabel('Predicted Label')\n",
    "    plt.ylabel('True Label')\n",
    "    plt.title('Confusion Matrix - Test')\n",
    "    plt.show()\n",
    "    \n",
    "def print_confusion_matrix(all_train_targets,all_train_predictions,all_val_targets,all_val_predictions,all_test_targets,all_test_predictions):\n",
    "    print(classification_report(all_train_targets,all_train_predictions))\n",
    "    print(classification_report(all_val_targets,all_val_predictions))\n",
    "    print(classification_report(all_test_targets,all_test_predictions))\n",
    "    "
   ],
   "outputs": [],
   "execution_count": 91
  },
  {
   "metadata": {},
   "cell_type": "code",
   "outputs": [],
   "execution_count": null,
   "source": ""
  },
  {
   "metadata": {
    "ExecuteTime": {
     "end_time": "2024-11-17T08:14:00.094297Z",
     "start_time": "2024-11-17T08:14:00.089126Z"
    }
   },
   "cell_type": "code",
   "source": [
    "# evaluate model\n",
    "\n",
    "all_train_targets = []\n",
    "all_train_predictions = []\n",
    "\n",
    "all_train_targets,all_train_predictions = get_predictions(train_loader, model, device)\n",
    "\n",
    "all_val_targets = []\n",
    "all_val_predictions = []\n",
    "\n",
    "all_val_targets,all_val_predictions = get_predictions(val_loader, model, device)\n",
    "\n",
    "all_test_targets = []\n",
    "all_test_predictions = []\n",
    "\n",
    "all_test_targets,all_test_predictions = get_predictions(test_loader, model, device)\n",
    "\n",
    "\n"
   ],
   "outputs": [],
   "execution_count": 93
  },
  {
   "metadata": {
    "ExecuteTime": {
     "end_time": "2024-11-17T08:13:52.876915Z",
     "start_time": "2024-11-17T08:13:52.376605Z"
    }
   },
   "cell_type": "code",
   "source": "plot_confusion_matrix(all_train_targets,all_train_predictions,all_val_targets,all_val_predictions,all_test_targets,all_test_predictions)",
   "outputs": [
    {
     "data": {
      "text/plain": [
       "<Figure size 1800x500 with 6 Axes>"
      ],
      "image/png": "[encoded data removed]"
     },
     "metadata": {},
     "output_type": "display_data"
    }
   ],
   "execution_count": 92
  },
  {
   "metadata": {
    "ExecuteTime": {
     "end_time": "2024-11-17T08:04:20.926644Z",
     "start_time": "2024-11-17T08:04:20.899097Z"
    }
   },
   "cell_type": "code",
   "source": [
    "print_confusion_matrix(all_train_targets,all_train_predictions,all_val_targets,all_val_predictions,all_test_targets,all_test_predictions)\n",
    "\n",
    "torch.cuda.empty_cache()"
   ],
   "outputs": [
    {
     "name": "stdout",
     "output_type": "stream",
     "text": [
      "              precision    recall  f1-score   support\n",
      "\n",
      "           0       1.00      1.00      1.00      4175\n",
      "           1       1.00      1.00      1.00       638\n",
      "\n",
      "    accuracy                           1.00      4813\n",
      "   macro avg       1.00      1.00      1.00      4813\n",
      "weighted avg       1.00      1.00      1.00      4813\n",
      "\n",
      "              precision    recall  f1-score   support\n",
      "\n",
      "           0       0.99      0.98      0.99       522\n",
      "           1       0.87      0.95      0.91        80\n",
      "\n",
      "    accuracy                           0.98       602\n",
      "   macro avg       0.93      0.96      0.95       602\n",
      "weighted avg       0.98      0.98      0.98       602\n",
      "\n",
      "              precision    recall  f1-score   support\n",
      "\n",
      "           0       0.98      0.97      0.97       523\n",
      "           1       0.82      0.84      0.83        79\n",
      "\n",
      "    accuracy                           0.96       602\n",
      "   macro avg       0.90      0.90      0.90       602\n",
      "weighted avg       0.96      0.96      0.96       602\n",
      "\n"
     ]
    }
   ],
   "execution_count": 90
  },
  {
   "metadata": {},
   "cell_type": "code",
   "outputs": [],
   "execution_count": null,
   "source": ""
  }
 ],
 "metadata": {
  "kernelspec": {
   "display_name": "Python 3",
   "language": "python",
   "name": "python3"
  },
  "language_info": {
   "codemirror_mode": {
    "name": "ipython",
    "version": 3
   },
   "file_extension": ".py",
   "mimetype": "text/x-python",
   "name": "python",
   "nbconvert_exporter": "python",
   "pygments_lexer": "ipython3",
   "version": "3.10.1"
  }
 },
 "nbformat": 4,
 "nbformat_minor": 2
}
